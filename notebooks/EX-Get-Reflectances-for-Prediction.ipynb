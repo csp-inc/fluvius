{
 "cells": [
  {
   "cell_type": "code",
   "execution_count": null,
   "metadata": {},
   "outputs": [],
   "source": [
    "import sys, os, copy, datetime\n",
    "sys.path.append('/content')\n",
    "from src.fluvius import WaterData, WaterStation\n",
    "import pandas as pd\n",
    "\n",
    "env_vars = open(\"/content/credentials\",\"r\").read().split('\\n')\n",
    "\n",
    "for var in env_vars[:-1]:\n",
    "    key, value = var.split(' = ')\n",
    "    os.environ[key] = value\n",
    "    \n",
    "storage_options= {'account_name':os.environ['ACCOUNT_NAME'],\n",
    "                    'account_key':os.environ['BLOB_KEY']}"
   ]
  },
  {
   "cell_type": "code",
   "execution_count": null,
   "metadata": {},
   "outputs": [],
   "source": [
    "# First, generate WaterStation data but add a row for each day of the year\n",
    "\n",
    "# Initialize WaterData to house new stations\n",
    "db = WaterData(\"itv\", \"itv-data\", 500, storage_options)\n",
    "db.get_source_df()"
   ]
  },
  {
   "cell_type": "code",
   "execution_count": null,
   "metadata": {},
   "outputs": [],
   "source": [
    "db.get_station_data()\n",
    "db.df"
   ]
  },
  {
   "cell_type": "code",
   "execution_count": null,
   "metadata": {},
   "outputs": [],
   "source": [
    "focal_station = db.df[\"site_no\"][2]"
   ]
  },
  {
   "cell_type": "code",
   "execution_count": null,
   "metadata": {},
   "outputs": [],
   "source": [
    "my_station = db.station[focal_station]\n",
    "my_station.df"
   ]
  },
  {
   "cell_type": "code",
   "execution_count": null,
   "metadata": {},
   "outputs": [],
   "source": [
    "start_date = datetime.date.fromisoformat(\"2015-09-01\")\n",
    "end_date = datetime.date.fromisoformat(\"2021-12-15\")\n",
    "\n",
    "daterange = pd.date_range(\n",
    "    start_date,\n",
    "    end_date - datetime.timedelta(days=1),\n",
    "    freq='d').to_pydatetime()\n",
    "\n",
    "dates = [x.date() for x in daterange]\n",
    "\n",
    "lat = [my_station.df[\"Latitude\"][0]] * len(dates)\n",
    "lon = [my_station.df[\"Longitude\"][0]] * len(dates)\n",
    "\n",
    "sample_ids = [f\"{my_station.site_no.zfill(8)}_pred_{str(i).zfill(8)}\" for i in range(0, len(dates))]\n",
    "\n",
    "my_station.df = pd.DataFrame({\n",
    "    \"sample_id\": sample_ids,\n",
    "    \"Longitude\": lon,\n",
    "    \"Latitude\": lat,\n",
    "    \"Date-Time\": dates\n",
    "})\n",
    "\n",
    "my_station.df\n",
    "my_station.time_of_interest = f\"{start_date}/{end_date}\"\n",
    "my_station.build_catalog()\n",
    "my_station.get_cloud_filtered_image_df(80)"
   ]
  },
  {
   "cell_type": "code",
   "execution_count": null,
   "metadata": {},
   "outputs": [],
   "source": [
    "my_station.merge_image_df_with_samples(0)"
   ]
  },
  {
   "cell_type": "code",
   "execution_count": null,
   "metadata": {},
   "outputs": [],
   "source": [
    "my_station.perform_chip_cloud_analysis()"
   ]
  },
  {
   "cell_type": "code",
   "execution_count": null,
   "metadata": {},
   "outputs": [],
   "source": [
    "my_station.get_chip_features(False, \"\", \"lulc\", \"mndwi\")"
   ]
  },
  {
   "cell_type": "code",
   "execution_count": null,
   "metadata": {},
   "outputs": [],
   "source": [
    "my_station.merged_df.to_csv(\"/content/local/predictions/itv3_features.csv\")"
   ]
  },
  {
   "cell_type": "code",
   "execution_count": null,
   "metadata": {},
   "outputs": [],
   "source": []
  }
 ],
 "metadata": {
  "interpreter": {
   "hash": "31f2aee4e71d21fbe5cf8b01ff0e069b9275f58929596ceb00d14d90e3e16cd6"
  },
  "kernelspec": {
   "display_name": "Python 3.8.5 64-bit",
   "language": "python",
   "name": "python3"
  },
  "language_info": {
   "codemirror_mode": {
    "name": "ipython",
    "version": 3
   },
   "file_extension": ".py",
   "mimetype": "text/x-python",
   "name": "python",
   "nbconvert_exporter": "python",
   "pygments_lexer": "ipython3",
   "version": "3.8.5"
  },
  "orig_nbformat": 4
 },
 "nbformat": 4,
 "nbformat_minor": 2
}
