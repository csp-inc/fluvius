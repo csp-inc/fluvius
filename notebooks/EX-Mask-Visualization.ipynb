{
 "cells": [
  {
   "cell_type": "code",
   "execution_count": null,
   "source": [
    "import os, sys\n",
    "import rasterio as rio\n",
    "import matplotlib.pyplot as plt\n",
    "import numpy as np\n",
    "from PIL import Image\n",
    "import fsspec\n",
    "from mpl_toolkits.axes_grid1 import make_axes_locatable\n",
    "sys.path.append('/content/src')\n",
    "from fluvius import normalized_diff\n",
    "\n",
    "with open(\"/content/credentials\") as f:\n",
    "    env_vars = f.read().split(\"\\n\")\n",
    "\n",
    "for var in env_vars:\n",
    "    key, value = var.split(\" = \")\n",
    "    os.environ[key] = value\n",
    "\n",
    "storage_options = {\"account_name\":os.environ[\"ACCOUNT_NAME\"],\n",
    "                   \"account_key\":os.environ[\"BLOB_KEY\"]}\n",
    "\n",
    "fs = fsspec.filesystem(\"az\", **storage_options)"
   ],
   "outputs": [],
   "metadata": {}
  },
  {
   "cell_type": "code",
   "execution_count": null,
   "source": [
    "src = \"ana\"\n",
    "id = \"29200000_00000013_2019-09-14\"\n",
    "composite = \"cir\"\n",
    "with rio.Env(\n",
    "        AZURE_STORAGE_ACCOUNT=os.environ[\"ACCOUNT_NAME\"],\n",
    "        AZURE_STORAGE_ACCESS_KEY=os.environ[\"BLOB_KEY\"]\n",
    "    ):\n",
    "    with rio.open(f\"az://modeling-data/chips/500m_cloudthr80_lulcndvi_masking/{src}/{id}.tif\") as ds:\n",
    "        img = np.moveaxis(ds.read(), 0, -1)\n",
    "    with rio.open(f\"az://modeling-data/chips/500m_cloudthr80_lulc_masking/{src}/{id}_water.tif\") as ds:\n",
    "        water = ds.read(1)\n",
    "    with fs.open(f\"az://modeling-data/chips/qa/{composite}_500m_cloudthr80_lulcndvi_masking/{src}_{id}.png\", 'rb') as fn:\n",
    "        all_rgb = np.array(Image.open(fn))\n",
    "        rgb = Image.fromarray(all_rgb[:, 0:round(water.shape[1]), :])\n",
    "        masked_rgb = Image.fromarray(all_rgb[:, round(water.shape[1]):, :])\n",
    "\n",
    "\n",
    "ndvi = normalized_diff(img[:, :, 4], img[:, :, 3])\n",
    "ndvi_water = (water == 1) & (ndvi < 0.25)"
   ],
   "outputs": [],
   "metadata": {}
  },
  {
   "cell_type": "code",
   "execution_count": null,
   "source": [
    "fig, (ax1, ax2, ax3, ax4, ax5) = plt.subplots(1, 5, figsize=(24,24))\n",
    "fig.tight_layout(pad=3.0)\n",
    "\n",
    "ax1.imshow(rgb, interpolation=\"nearest\")\n",
    "ax1.set_title(f\"{composite.upper()} Image\", fontsize=16)\n",
    "\n",
    "ax2.imshow(water, cmap=\"hot\", interpolation=\"nearest\")\n",
    "ax2.set_title(\"IO LULC Water Mask\", fontsize=16)\n",
    "\n",
    "plt3 = ax3.imshow(ndvi, cmap=\"hot\", interpolation=\"nearest\")\n",
    "ax3.set_title(\"NDVI\", fontsize=16)\n",
    "divider = make_axes_locatable(ax3)\n",
    "plt.colorbar(plt3, cax=divider.append_axes('right', size='5%', pad=0.05))\n",
    "\n",
    "ax4.imshow(ndvi_water*1, cmap=\"gray\", interpolation=\"nearest\")\n",
    "ax4.set_title(\"Combined Water/NDVI Mask\", fontsize=16)\n",
    "\n",
    "ax5.imshow(masked_rgb, interpolation=\"nearest\")\n",
    "ax5.set_title(f\"Masked {composite.upper()} Image\", fontsize=16)\n",
    "\n",
    "fig.show()"
   ],
   "outputs": [],
   "metadata": {}
  }
 ],
 "metadata": {
  "orig_nbformat": 4,
  "language_info": {
   "name": "python",
   "version": "3.8.5",
   "mimetype": "text/x-python",
   "codemirror_mode": {
    "name": "ipython",
    "version": 3
   },
   "pygments_lexer": "ipython3",
   "nbconvert_exporter": "python",
   "file_extension": ".py"
  },
  "kernelspec": {
   "name": "python3",
   "display_name": "Python 3.8.5 64-bit"
  },
  "interpreter": {
   "hash": "31f2aee4e71d21fbe5cf8b01ff0e069b9275f58929596ceb00d14d90e3e16cd6"
  }
 },
 "nbformat": 4,
 "nbformat_minor": 2
}