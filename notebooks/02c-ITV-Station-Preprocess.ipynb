{
 "cells": [
  {
   "cell_type": "code",
   "execution_count": 1,
   "id": "44598148",
   "metadata": {},
   "outputs": [],
   "source": [
    "### Environment setup\n",
    "from pystac_client import Client\n",
    "import planetary_computer as pc\n",
    "import os\n",
    "\n",
    "# Set the environment variable PC_SDK_SUBSCRIPTION_KEY, or set it here.\n",
    "# The Hub sets PC_SDK_SUBSCRIPTION_KEY automatically.\n",
    "# pc.settings.set_subscription_key(<YOUR API Key>)\n",
    "env_vars = !cat /content/.env\n",
    "\n",
    "for var in env_vars:\n",
    "    key, value = var.split(' = ')\n",
    "    os.environ[key] = value"
   ]
  },
  {
   "cell_type": "code",
   "execution_count": 2,
   "id": "1f1f3f30",
   "metadata": {},
   "outputs": [],
   "source": [
    "import pandas as pd\n",
    "import fsspec\n",
    "import numpy as np\n",
    "import geopandas as gpd\n",
    "import rasterio\n",
    "from rasterio import windows\n",
    "from rasterio import features\n",
    "from rasterio import warp\n",
    "\n",
    "import numpy as np\n",
    "from PIL import Image\n",
    "import matplotlib.pyplot as plt\n",
    "#experiments with dask\n",
    "import dask.dataframe as dd\n",
    "\n",
    "container = 'itv-data'\n",
    "\n",
    "storage_options={'account_name':os.environ['ACCOUNT_NAME'],\\\n",
    "                 'account_key':os.environ['BLOB_KEY']}\n",
    "fs = fsspec.filesystem('az', account_name=storage_options['account_name'], account_key=storage_options['account_key'])\n",
    "station_url = f'az://{container}/itv_station_metadata.csv'\n",
    "station_df = dd.read_csv(station_url, storage_options=storage_options)                \n",
    "#df = dd.read_csv(station_url, storage_options=storage_options)\n",
    "#ddf = dg.from_dask_dataframe(df).set_geometry(dg.points_from_xy(ddf, 'Latitude', 'Longitude'))"
   ]
  },
  {
   "cell_type": "markdown",
   "id": "705a3f10",
   "metadata": {},
   "source": [
    "# Here we preprocessing of the data for standardized ingestion"
   ]
  },
  {
   "cell_type": "code",
   "execution_count": 8,
   "id": "3f2a2831",
   "metadata": {},
   "outputs": [],
   "source": [
    "for site_no in station_df.site_no:\n",
    "    station_url = f'az://{container}/{site_no}.csv'\n",
    "    site_df = pd.read_csv(station_url,\\\n",
    "                          storage_options=storage_options,\\\n",
    "                          delimiter=',')\n",
    "\n",
    "    site_df['Date-Time']=pd.to_datetime(site_df['Campaign Date'], \\\n",
    "                                       format='%d/%m/%Y')\n",
    "\n",
    "    write_filename = f'az://{container}/stations/{site_no}.csv'\n",
    "    site_df.to_csv(write_filename, storage_options=storage_options,\\\n",
    "                  index=False)"
   ]
  },
  {
   "cell_type": "code",
   "execution_count": 31,
   "id": "3e8f390a",
   "metadata": {},
   "outputs": [],
   "source": []
  },
  {
   "cell_type": "code",
   "execution_count": null,
   "id": "78a8bde9",
   "metadata": {},
   "outputs": [],
   "source": []
  }
 ],
 "metadata": {
  "kernelspec": {
   "display_name": "Python 3",
   "language": "python",
   "name": "python3"
  },
  "language_info": {
   "codemirror_mode": {
    "name": "ipython",
    "version": 3
   },
   "file_extension": ".py",
   "mimetype": "text/x-python",
   "name": "python",
   "nbconvert_exporter": "python",
   "pygments_lexer": "ipython3",
   "version": "3.8.5"
  }
 },
 "nbformat": 4,
 "nbformat_minor": 5
}
