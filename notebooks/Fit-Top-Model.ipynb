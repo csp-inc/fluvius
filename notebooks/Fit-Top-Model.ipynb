{
 "cells": [
  {
   "cell_type": "code",
   "execution_count": null,
   "metadata": {},
   "outputs": [],
   "source": [
    "import os, sys, pandas as pd, pickle, torch, torch.nn as nn, copy\n",
    "sys.path.append(\"/content\")\n",
    "from src.utils import plot_obs_predict, fit_mlp_full, MultipleRegression\n",
    "os.chdir(\"/content\")\n",
    "with open(\"/content/credentials\") as f:\n",
    "    env_vars = f.read().split(\"\\n\")\n",
    "\n",
    "for var in env_vars:\n",
    "    key, value = var.split(\" = \")\n",
    "    os.environ[key] = value\n",
    "\n",
    "storage_options = {\"account_name\":os.environ[\"ACCOUNT_NAME\"],\n",
    "                   \"account_key\":os.environ[\"BLOB_KEY\"]}\n"
   ]
  },
  {
   "cell_type": "code",
   "execution_count": null,
   "metadata": {},
   "outputs": [],
   "source": [
    "results = pd.read_csv(\"output/mlp/grid_search_metadata.csv\")\n",
    "no_azimuth = [\"mean_viewing_azimuth\" not in results[\"features\"][i] for i in range(0, (results.shape[0]))]\n",
    "results_sub = copy.copy(results.loc[no_azimuth, :])\n",
    "\n",
    "results_to_use = results_sub\n",
    "results_to_use[\"mean_mse\"] = (results_to_use[\"val_site_mse\"] + results_to_use[\"val_pooled_mse\"]) / 2\n",
    "\n",
    "with open(results_to_use.iloc[results_to_use[\"mean_mse\"].argmin(), :][\"path\"], \"rb\") as f:\n",
    "    top_model = pickle.load(f)\n",
    "\n",
    "# from sklearn.metrics import r2_score\n",
    "# part = \"validation\"\n",
    "# my_fold = 1\n",
    "\n",
    "# if part == \"validation\":\n",
    "#     pred_fold = top_model[\"y_pred_val_fold\"]\n",
    "#     y_fold = top_model[\"y_obs_val_fold\"]\n",
    "# else:\n",
    "#     pred_fold = top_model[\"y_pred_train_fold\"]\n",
    "#     y_fold = top_model[\"y_obs_train_fold\"]\n",
    "\n",
    "# print(f\"R2: {r2_score(pred_fold[my_fold], y_fold[my_fold])}\")\n",
    "# plot_obs_predict(pd.DataFrame({\"pred\": pred_fold[my_fold], \"obs\": y_fold[my_fold]}), f\"Observed vs. Predicted, Fold {my_fold+1}\")"
   ]
  },
  {
   "cell_type": "code",
   "execution_count": null,
   "metadata": {},
   "outputs": [],
   "source": [
    "## Fit the full model based on top model above\n",
    "from torch import nn\n",
    "model_out = fit_mlp_full(\n",
    "    features=top_model[\"features\"],\n",
    "    learning_rate=top_model[\"learning_rate\"],\n",
    "    batch_size=top_model[\"batch_size\"],\n",
    "    epochs=top_model[\"epochs\"],\n",
    "    storage_options=storage_options,\n",
    "    activation_function=eval(f'nn.{top_model[\"activation\"]}'),\n",
    "    day_tolerance=top_model[\"day_tolerance\"],\n",
    "    cloud_thr=top_model[\"cloud_thr\"],\n",
    "    mask_method1=\"lulc\",\n",
    "    mask_method2=\"mndwi\",\n",
    "    min_water_pixels=20,\n",
    "    layer_out_neurons=top_model[\"layer_out_neurons\"],\n",
    "    learn_sched_step_size=top_model[\"learn_sched_step_size\"],\n",
    "    learn_sched_gamma=top_model[\"learn_sched_gamma\"],\n",
    "    verbose=True,\n",
    "    model_out=\"/content/output/mlp/top_model\"\n",
    ")"
   ]
  },
  {
   "cell_type": "code",
   "execution_count": null,
   "metadata": {},
   "outputs": [],
   "source": [
    "from sklearn.metrics import r2_score\n",
    "\n",
    "pred = pd.DataFrame(\n",
    "    {\n",
    "        \"obs\": model_out[\"y_obs_test\"],\n",
    "        \"pred\": model_out[\"y_pred_test\"],\n",
    "        \"sample_id\": model_out[\"y_test_sample_id\"]\n",
    "    }\n",
    ")\n",
    "\n",
    "# pred_good = pred.loc[(pred[\"obs\"] < 5.25) & (pred[\"obs\"] > 0.5), :]\n",
    "pred_itv = pred.loc[[\"ITV\" in x for x in pred[\"sample_id\"]], :]\n",
    "pred_data = pred_itv\n",
    "print(f'R2: {r2_score([x+0.45 for x in pred_data[\"pred\"]], pred_data[\"obs\"])}')\n",
    "\n",
    "plot_obs_predict(pd.DataFrame({\"pred\": [x+0.45 for x in pred_data[\"pred\"]], \"obs\":  pred_data[\"obs\"]}), f\"Observed vs. Predicted, Training Partition\")"
   ]
  },
  {
   "cell_type": "code",
   "execution_count": null,
   "metadata": {},
   "outputs": [],
   "source": [
    "import fsspec\n",
    "fs = fsspec.filesystem(\"az\", **storage_options)"
   ]
  },
  {
   "cell_type": "code",
   "execution_count": null,
   "metadata": {},
   "outputs": [],
   "source": [
    "fs.put_file(\"/content/output/mlp/top_model.pt\", \"model-output/mlp/top_model.pt\", overwrite=True)\n",
    "fs.put_file(\"/content/output/mlp/grid_search_metadata.csv\", \"model-output/mlp/grid_search_metadata.csv\", overwrite=True)\n",
    "fs.put_file(\"/content/output/mlp/top_model_metadata.pickle\", \"model-output/mlp/top_model_metadata.pickle\", overwrite=True)"
   ]
  },
  {
   "cell_type": "code",
   "execution_count": null,
   "metadata": {},
   "outputs": [],
   "source": [
    "paths_full = os.listdir(\"/content/output/mlp/500m_cloudthr80_lulcmndwi_masking_tmp_5fold\")\n",
    "paths = [os.path.basename(x) for x in paths_full]\n",
    "\n",
    "for path in paths:\n",
    "    fs.put_file(\n",
    "        f\"output/mlp/500m_cloudthr80_lulcmndwi_masking_tmp_5fold/{path}\",\n",
    "        f\"model-output/mlp/500m_cloudthr80_lulcmndwi_masking_tmp_5fold/{path}\"\n",
    "    )"
   ]
  },
  {
   "cell_type": "code",
   "execution_count": null,
   "metadata": {},
   "outputs": [],
   "source": [
    "from matplotlib import pyplot as plt\n",
    "\n",
    "lost_list = model_out[\"train_loss\"]\n",
    "\n",
    "plt.figure(figsize=(8,6))\n",
    "plt.plot(lost_list, color=\"teal\", label=\"training\")\n",
    "plt.title(f\"Loss by Epoch for Training Partition\")\n",
    "plt.xlabel(\"Epoch\")\n",
    "plt.ylabel(\"Loss\")\n",
    "plt.ylim((0, 3))\n",
    "plt.legend()\n",
    "plt.show()"
   ]
  },
  {
   "cell_type": "code",
   "execution_count": null,
   "metadata": {},
   "outputs": [],
   "source": []
  }
 ],
 "metadata": {
  "interpreter": {
   "hash": "31f2aee4e71d21fbe5cf8b01ff0e069b9275f58929596ceb00d14d90e3e16cd6"
  },
  "kernelspec": {
   "display_name": "Python 3.8.5 64-bit",
   "name": "python3"
  },
  "language_info": {
   "codemirror_mode": {
    "name": "ipython",
    "version": 3
   },
   "file_extension": ".py",
   "mimetype": "text/x-python",
   "name": "python",
   "nbconvert_exporter": "python",
   "pygments_lexer": "ipython3",
   "version": "3.8.5"
  },
  "orig_nbformat": 4
 },
 "nbformat": 4,
 "nbformat_minor": 2
}
