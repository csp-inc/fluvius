{
 "cells": [
  {
   "cell_type": "code",
   "execution_count": 3,
   "id": "44598148",
   "metadata": {},
   "outputs": [],
   "source": [
    "### Environment setup\n",
    "from pystac_client import Client\n",
    "import planetary_computer as pc\n",
    "import os\n",
    "\n",
    "# Set the environment variable PC_SDK_SUBSCRIPTION_KEY, or set it here.\n",
    "# The Hub sets PC_SDK_SUBSCRIPTION_KEY automatically.\n",
    "# pc.settings.set_subscription_key(<YOUR API Key>)\n",
    "env_vars = !cat /content/.env\n",
    "\n",
    "for var in env_vars:\n",
    "    key, value = var.split(' = ')\n",
    "    os.environ[key] = value"
   ]
  },
  {
   "cell_type": "code",
   "execution_count": 4,
   "id": "1f1f3f30",
   "metadata": {},
   "outputs": [],
   "source": [
    "import pandas as pd\n",
    "import fsspec\n",
    "import numpy as np\n",
    "import geopandas as gpd\n",
    "import rasterio\n",
    "from rasterio import windows\n",
    "from rasterio import features\n",
    "from rasterio import warp\n",
    "\n",
    "import numpy as np\n",
    "from PIL import Image\n",
    "import matplotlib.pyplot as plt\n",
    "#experiments with dask\n",
    "import dask.dataframe as dd\n",
    "import dask_geopandas as dg\n",
    "\n",
    "data_src = 'usgs'\n",
    "container = 'usgs-data'\n",
    "\n",
    "storage_options={'account_name':os.environ['ACCOUNT_NAME'],\\\n",
    "                 'account_key':os.environ['BLOB_KEY']}\n",
    "fs = fsspec.filesystem('az', account_name=storage_options['account_name'], account_key=storage_options['account_key'])\n",
    "station_url = f'az://{container}/{data_src}_station_metadata_raw.csv'\n",
    "station_df = pd.read_csv(station_url, storage_options=storage_options)                \n",
    "#df = dd.read_csv(station_url, storage_options=storage_options)\n",
    "#ddf = dg.from_dask_dataframe(df).set_geometry(dg.points_from_xy(ddf, 'Latitude', 'Longitude'))"
   ]
  },
  {
   "cell_type": "code",
   "execution_count": 51,
   "id": "a7d6e4b6",
   "metadata": {},
   "outputs": [],
   "source": [
    "sites_str = [str(f).zfill(8) for f in station_df.site_no]\n",
    "station_df['sites_str'] = sites_str"
   ]
  },
  {
   "cell_type": "code",
   "execution_count": 52,
   "id": "0c76b1ea",
   "metadata": {},
   "outputs": [],
   "source": [
    "query = []\n",
    "for f in fs.ls(f'{container}/stations'):\n",
    "    station = os.path.basename(f).split('_')[0]\n",
    "    query.append(station)\n",
    "q = pd.DataFrame({'sites_str':query})\n",
    "out = station_df.merge(q, on='sites_str')\n",
    "out['site_no'] = out['sites_str']"
   ]
  },
  {
   "cell_type": "code",
   "execution_count": 63,
   "id": "76072c18",
   "metadata": {},
   "outputs": [],
   "source": [
    "out = out[['site_no','site_name', 'Latitude', 'Longitude','geometry']]\n"
   ]
  },
  {
   "cell_type": "code",
   "execution_count": 64,
   "id": "f7198995",
   "metadata": {},
   "outputs": [],
   "source": [
    "out.to_csv(f'az://{container}/usgs_station_metadata.csv',index=False, storage_options=storage_options)"
   ]
  },
  {
   "cell_type": "code",
   "execution_count": 5,
   "id": "f559e94f",
   "metadata": {},
   "outputs": [],
   "source": [
    "url = f'az://{container}/usgs_station_metadata.csv'\n",
    "z = pd.read_csv(url, storage_options=storage_options)"
   ]
  },
  {
   "cell_type": "code",
   "execution_count": 28,
   "id": "f250fa3a",
   "metadata": {},
   "outputs": [],
   "source": [
    "for f in fs.ls('usgs-data/stations'):\n",
    "    out = f\"{f.split('_')[0]}.csv\"\n",
    "    fs.cp(f, out)"
   ]
  },
  {
   "cell_type": "code",
   "execution_count": null,
   "id": "b774102a",
   "metadata": {},
   "outputs": [],
   "source": []
  }
 ],
 "metadata": {
  "kernelspec": {
   "display_name": "Python 3",
   "language": "python",
   "name": "python3"
  },
  "language_info": {
   "codemirror_mode": {
    "name": "ipython",
    "version": 3
   },
   "file_extension": ".py",
   "mimetype": "text/x-python",
   "name": "python",
   "nbconvert_exporter": "python",
   "pygments_lexer": "ipython3",
   "version": "3.8.5"
  }
 },
 "nbformat": 4,
 "nbformat_minor": 5
}
