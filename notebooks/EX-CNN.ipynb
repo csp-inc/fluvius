{
 "cells": [
  {
   "cell_type": "code",
   "execution_count": 1,
   "metadata": {},
   "outputs": [],
   "source": [
    "import torch, os\n",
    "from torch.utils.data import Dataset\n",
    "import torchvision\n",
    "import torch.nn as nn\n",
    "from torch.utils.data import DataLoader\n",
    "import torchvision.transforms as transforms\n",
    "import rasterio as rio\n",
    "import pandas as pd, numpy as np\n",
    "os.chdir(\"/content\")"
   ]
  },
  {
   "cell_type": "code",
   "execution_count": 4,
   "metadata": {},
   "outputs": [],
   "source": [
    "with open(\"/content/credentials\") as f:\n",
    "    env_vars = f.read().split(\"\\n\")\n",
    "\n",
    "for var in env_vars:\n",
    "    key, value = var.split(\" = \")\n",
    "    os.environ[key] = value\n",
    "\n",
    "storage_options = {\"account_name\":os.environ[\"ACCOUNT_NAME\"],\n",
    "                   \"account_key\":os.environ[\"BLOB_KEY\"]}"
   ]
  },
  {
   "cell_type": "code",
   "execution_count": 5,
   "metadata": {},
   "outputs": [],
   "source": [
    "labels = pd.read_csv(\n",
    "    f\"az://modeling-data/partitioned_feature_data_buffer500m_daytol8_cloudthr80percent_lulcndvi_masking.csv\",\n",
    "    storage_options=storage_options\n",
    ")\n",
    "not_enough_water = labels[\"n_water_pixels\"] <= 50\n",
    "labels.drop(not_enough_water[not_enough_water].index, inplace=True)\n",
    "\n",
    "labels[\"raw_img_az_path\"] = [f'az://{x.split(\".net/\")[1]}' for x in labels[\"raw_img_chip_href\"]]\n",
    "labels[\"water_az_path\"] = [f'az://{x.split(\".net/\")[1]}' for x in labels[\"water_chip_href\"]]\n",
    "\n",
    "train_labels = labels.loc[\n",
    "    labels[\"partition\"] == \"train\",\n",
    "    [\"site_no\", \"sample_id\", \"SSC (mg/L)\", \"mean_viewing_azimuth\",\n",
    "     \"mean_viewing_zenith\", \"mean_solar_azimuth\", \"mean_solar_zenith\",\n",
    "     \"raw_img_az_path\", \"water_az_path\", \"is_brazil\"]\n",
    "]\n",
    "validation_labels = labels.loc[\n",
    "    labels[\"partition\"] == \"validate\",\n",
    "    [\"site_no\", \"sample_id\", \"SSC (mg/L)\", \"mean_viewing_azimuth\",\n",
    "     \"mean_viewing_zenith\", \"mean_solar_azimuth\", \"mean_solar_zenith\",\n",
    "     \"raw_img_az_path\", \"water_az_path\", \"is_brazil\"]\n",
    "]\n"
   ]
  },
  {
   "cell_type": "code",
   "execution_count": 17,
   "metadata": {},
   "outputs": [],
   "source": [
    "RIO_BANDS_ORDERED = {\n",
    "    \"aot\":1, \n",
    "    \"blue\":2, \n",
    "    \"green\":3, \n",
    "    \"red\":4, \n",
    "    \"nir\":5, \n",
    "    \"wvp\":6,\n",
    "    \"rededge1\":7, \n",
    "    \"redege2\":8, \n",
    "    \"rededge3\":9, \n",
    "    \"rededge4\":10, \n",
    "    \"swir1\":11, \n",
    "    \"swir2\":12\n",
    "}\n",
    "\n",
    "class FluviusDataset(Dataset):\n",
    "    def __init__(\n",
    "        self,\n",
    "        labels,\n",
    "        bands=[\"blue\",\"green\",\"red\",\"nir\"],\n",
    "        transform=None\n",
    "    ):\n",
    "        self.annotations = labels\n",
    "        self.transform = transform\n",
    "        self.rio_band_idx = [RIO_BANDS_ORDERED.get(x) for x in bands]\n",
    "\n",
    "    def __len__(self):\n",
    "        return len(self.annotations)\n",
    "\n",
    "    def __getitem__(self, index):\n",
    "        img_path = self.annotations.iloc[index, :][\"raw_img_az_path\"]\n",
    "        water_path = self.annotations.iloc[index, :][\"water_az_path\"]\n",
    "\n",
    "        with rio.Env(\n",
    "            AZURE_STORAGE_ACCOUNT=os.environ[\"ACCOUNT_NAME\"],\n",
    "            AZURE_STORAGE_ACCESS_KEY=os.environ[\"BLOB_KEY\"]\n",
    "        ):\n",
    "            with rio.open(img_path) as ds:\n",
    "                spect_img = (ds.read(\n",
    "                    tuple(\n",
    "                        self.rio_band_idx\n",
    "                    )\n",
    "                ).clip(0, 15000) / (15000)).astype(np.float32)\n",
    "            with rio.open(water_path) as ds:\n",
    "                water = ds.read().astype(np.float32)\n",
    "        img = np.moveaxis(\n",
    "            (np.concatenate([spect_img, water], axis=0) - 0.5) * 2,\n",
    "            0, -1)\n",
    "\n",
    "        y_label = torch.tensor(np.log(self.annotations.iloc[index, :][\"SSC (mg/L)\"]).astype(np.float32))\n",
    "\n",
    "        if self.transform is not None:\n",
    "            img = self.transform(img)\n",
    "\n",
    "        return (img, y_label)"
   ]
  },
  {
   "cell_type": "code",
   "execution_count": 18,
   "metadata": {},
   "outputs": [],
   "source": [
    "transform = transforms.Compose(\n",
    "    [\n",
    "        transforms.ToTensor(), # Converts ndarray to tensor\n",
    "        transforms.Resize((96,96))\n",
    "    ]\n",
    ")"
   ]
  },
  {
   "cell_type": "code",
   "execution_count": 19,
   "metadata": {},
   "outputs": [],
   "source": [
    "## HyperParameters\n",
    "train_batch_size = 64\n",
    "val_batch_size = 8\n",
    "learning_rate = 0.001\n",
    "epochs = 100\n",
    "\n",
    "\n",
    "## Load DataSets\n",
    "train = FluviusDataset(train_labels, transform=transform)\n",
    "validation = FluviusDataset(validation_labels, transform=transform)\n",
    "\n",
    "## Set up data loaders\n",
    "train_loader = DataLoader(\n",
    "    train,\n",
    "    batch_size=train_batch_size,\n",
    "    shuffle=True,\n",
    "    num_workers=0\n",
    ")\n",
    "val_loader = DataLoader(\n",
    "    validation,\n",
    "    batch_size=val_batch_size,\n",
    "    shuffle=False,\n",
    "    num_workers=0\n",
    ")\n",
    "\n",
    "val_loader_all = DataLoader(\n",
    "    validation,\n",
    "    batch_size=1,\n",
    "    shuffle=False,\n",
    "    num_workers=0\n",
    ")\n"
   ]
  },
  {
   "cell_type": "code",
   "execution_count": 20,
   "metadata": {},
   "outputs": [],
   "source": [
    "## Specify the model\n",
    "import torch.nn as nn\n",
    "import torchvision.models as models\n",
    "import torch.nn.functional as F\n",
    "\n",
    "class CNN(nn.Module):\n",
    "    def __init__(self, n_channels):\n",
    "        super().__init__()\n",
    "        self.conv1 = nn.Conv2d(\n",
    "            in_channels=5,\n",
    "            out_channels=8,\n",
    "            kernel_size=3,\n",
    "            padding=1\n",
    "        )\n",
    "        self.avgpool1 = nn.AvgPool2d(kernel_size=16, stride=16)\n",
    "        self.conv2 = nn.Conv2d(\n",
    "            in_channels=8,\n",
    "            out_channels=2,\n",
    "            kernel_size=3\n",
    "        )\n",
    "        self.avgpool2 = nn.AvgPool2d(kernel_size=2, stride=2)\n",
    "        self.fc1 = nn.Linear(288, 8)\n",
    "        self.fc2 = nn.Linear(8, 1)\n",
    "\n",
    "    def forward(self, x):\n",
    "        x = self.avgpool1(F.relu(self.conv1(x))) # Convolve, activate, pool #1\n",
    "        #x = self.avgpool2(F.relu(self.conv2(x))) # Convolve, activate, pool #2\n",
    "        x = torch.flatten(x, 1)\n",
    "        x = torch.relu(self.fc1(x)) # Fully connected layers\n",
    "        x = self.fc2(x).squeeze()\n",
    "        return x"
   ]
  },
  {
   "cell_type": "code",
   "execution_count": 21,
   "metadata": {},
   "outputs": [],
   "source": [
    "## Train the model!\n",
    "model = CNN(len(train.rio_band_idx))\n",
    "\n",
    "import torch.optim as optim\n",
    "\n",
    "criterion = nn.MSELoss()\n",
    "optimizer = optim.SGD(model.parameters(), lr=learning_rate, momentum=0.9)\n",
    "\n",
    "for epoch in range(epochs):  # loop over the dataset multiple times\n",
    "\n",
    "    running_loss = 0.0\n",
    "    for i, data in enumerate(train_loader):\n",
    "        # get the inputs; data is a list of [inputs, labels]\n",
    "        inputs, labels = data\n",
    "        # zero the parameter gradients\n",
    "        optimizer.zero_grad()\n",
    "\n",
    "        # forward + backward + optimize\n",
    "        outputs = model(inputs)\n",
    "        loss = criterion(outputs, labels)\n",
    "        loss.backward()\n",
    "        optimizer.step()\n",
    "\n",
    "        # print statistics288\n",
    "        running_loss += loss.item()\n",
    "    \n",
    "    # Validation loss:\n",
    "    with torch.no_grad():\n",
    "        val_loss = 0\n",
    "        model.eval()\n",
    "        for i, data in enumerate(val_loader_all):\n",
    "            inputs, labels = data\n",
    "            y_val_pred = model(inputs)\n",
    "            val_loss = criterion(y_val_pred, labels)\n",
    "            val_loss += val_loss.item()\n",
    "    \n",
    "    print(f\"Epoch {epoch + 1}/{epochs} | Train Loss: {running_loss/len(train_loader):.3f} | Val Loss: {val_loss:.3f}\")\n",
    "\n",
    "\n",
    "print('Finished Training')"
   ]
  },
  {
   "cell_type": "code",
   "execution_count": 84,
   "metadata": {},
   "outputs": [],
   "source": [
    "val_pred_list = []\n",
    "with torch.no_grad():\n",
    "        model.eval()\n",
    "        for img, _ in val_loader_all:\n",
    "                y_pred = model(img)\n",
    "                val_pred_list.append(y_pred.tolist())\n"
   ]
  },
  {
   "cell_type": "code",
   "execution_count": 85,
   "metadata": {},
   "outputs": [],
   "source": [
    "observed = [validation.__getitem__(x)[1].tolist() for x in range(validation.__len__())]"
   ]
  },
  {
   "cell_type": "code",
   "execution_count": 86,
   "metadata": {},
   "outputs": [],
   "source": [
    "from matplotlib import pyplot as plt\n",
    "\n",
    "def plot_obs_predict(obs_pred, title, savefig=False, outfn=\"\"):\n",
    "    plt.figure(figsize=(8,8))\n",
    "    plt.plot(list(range(0,8)),list(range(0,8)), color=\"black\", label=\"One-to-one 1 line\")\n",
    "    plt.scatter(obs_pred.iloc[:,0], obs_pred.iloc[:,1])\n",
    "    plt.axvline(x=np.mean(obs_pred.iloc[:,1]), color=\"black\")\n",
    "    plt.xlabel(\"ln(SSC) Predicted\")\n",
    "    plt.ylabel(\"ln(SSC) Observed\")\n",
    "    plt.title(title)\n",
    "    plt.legend()\n",
    "    if savefig:\n",
    "        plt.savefig(\n",
    "            outfn,\n",
    "            bbox_inches=\"tight\",\n",
    "            facecolor=\"#FFFFFF\",\n",
    "            dpi=150\n",
    "        )\n",
    "\n",
    "obs_pred = pd.DataFrame({\n",
    "    \"predicted\": val_pred_list,\n",
    "    \"observed\": observed\n",
    "})"
   ]
  },
  {
   "cell_type": "code",
   "execution_count": 87,
   "metadata": {},
   "outputs": [
    {
     "data": {
      "image/png": "[encoded data removed]",
      "text/plain": [
       "<Figure size 576x576 with 1 Axes>"
      ]
     },
     "metadata": {
      "needs_background": "light"
     },
     "output_type": "display_data"
    }
   ],
   "source": [
    "plot_obs_predict(obs_pred, \"Observed vs. Predicted for Validation\")"
   ]
  },
  {
   "cell_type": "code",
   "execution_count": null,
   "metadata": {},
   "outputs": [],
   "source": []
  }
 ],
 "metadata": {
  "interpreter": {
   "hash": "31f2aee4e71d21fbe5cf8b01ff0e069b9275f58929596ceb00d14d90e3e16cd6"
  },
  "kernelspec": {
   "display_name": "Python 3.8.10 64-bit",
   "name": "python3"
  },
  "language_info": {
   "codemirror_mode": {
    "name": "ipython",
    "version": 3
   },
   "file_extension": ".py",
   "mimetype": "text/x-python",
   "name": "python",
   "nbconvert_exporter": "python",
   "pygments_lexer": "ipython3",
   "version": "3.8.10"
  },
  "orig_nbformat": 4
 },
 "nbformat": 4,
 "nbformat_minor": 2
}
