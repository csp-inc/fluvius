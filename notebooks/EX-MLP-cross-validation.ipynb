{
 "cells": [
  {
   "cell_type": "code",
   "execution_count": null,
   "metadata": {},
   "outputs": [],
   "source": [
    "import os, sys\n",
    "sys.path.append(\"/content\")\n",
    "from src.utils import fit_mlp_cv, plot_obs_predict\n",
    "\n",
    "with open(\"/content/credentials\") as f:\n",
    "    env_vars = f.read().split(\"\\n\")\n",
    "\n",
    "for var in env_vars:\n",
    "    key, value = var.split(\" = \")\n",
    "    os.environ[key] = value\n",
    "\n",
    "storage_options = {\"account_name\":os.environ[\"ACCOUNT_NAME\"],\n",
    "                   \"account_key\":os.environ[\"BLOB_KEY\"]}\n"
   ]
  },
  {
   "cell_type": "code",
   "execution_count": null,
   "metadata": {},
   "outputs": [],
   "source": [
    "import numpy as np\n",
    "import pandas as pd\n",
    "import torch.nn as nn\n",
    "from sklearn.metrics import r2_score\n",
    "\n",
    "# Specify hyperparameters and fit model\n",
    "buffer_distance = 500\n",
    "day_tolerance = 8\n",
    "cloud_thr = 80\n",
    "features = [\n",
    "    \"sentinel-2-l2a_AOT\", \n",
    "    \"sentinel-2-l2a_B02\", \"sentinel-2-l2a_B03\", \"sentinel-2-l2a_B04\", # RGB bands\n",
    "    \"sentinel-2-l2a_B08\", # NIR\n",
    "    #\"sentinel-2-l2a_WVP\", \n",
    "    \"sentinel-2-l2a_B05\", \"sentinel-2-l2a_B06\", \"sentinel-2-l2a_B07\", \"sentinel-2-l2a_B8A\",  # Red edge bands\n",
    "    \"is_brazil\", #\"sine_julian\", \n",
    "    \"sentinel-2-l2a_B11\", \"sentinel-2-l2a_B12\", # SWIR\n",
    "    \"mean_viewing_azimuth\", \"mean_viewing_zenith\",\n",
    "    \"mean_solar_azimuth\", \"mean_solar_zenith\"\n",
    "]\n",
    "epochs = 500\n",
    "batch_size = 32\n",
    "learning_rate = 0.001\n",
    "\n",
    "layer_out_neurons = [8, 24, 8]\n",
    "\n",
    "mask_method1 = \"lulc\"\n",
    "mask_method2 = \"mndwi\"\n",
    "min_water_pixels = 20\n",
    "learn_sched_step_size = 250 \n",
    "learn_sched_gamma = 0.5\n",
    "activation_function = nn.SELU()"
   ]
  },
  {
   "cell_type": "code",
   "execution_count": null,
   "metadata": {},
   "outputs": [],
   "source": [
    "output = fit_mlp_cv(\n",
    "    features,\n",
    "    learning_rate,\n",
    "    batch_size,\n",
    "    epochs,\n",
    "    storage_options=storage_options,\n",
    "    activation_function=activation_function,\n",
    "    buffer_distance=buffer_distance,\n",
    "    day_tolerance=day_tolerance,\n",
    "    cloud_thr=cloud_thr,\n",
    "    mask_method1=mask_method1,\n",
    "    mask_method2=mask_method2,\n",
    "    min_water_pixels=min_water_pixels,\n",
    "    layer_out_neurons=layer_out_neurons,\n",
    "    learn_sched_step_size=learn_sched_step_size,\n",
    "    learn_sched_gamma=learn_sched_gamma,\n",
    "    verbose=True\n",
    ")"
   ]
  },
  {
   "cell_type": "code",
   "execution_count": null,
   "metadata": {},
   "outputs": [],
   "source": [
    "part = \"validation\"\n",
    "my_fold = 1\n",
    "\n",
    "if part == \"validation\":\n",
    "    pred_fold = output[\"y_pred_val_fold\"]\n",
    "    y_fold = output[\"y_obs_val_fold\"]\n",
    "else:\n",
    "    pred_fold = output[\"y_pred_train_fold\"]\n",
    "    y_fold = output[\"y_obs_train_fold\"]\n",
    "\n",
    "print(f\"R2: {r2_score(pred_fold[my_fold], y_fold[my_fold])}\")\n",
    "plot_obs_predict(pd.DataFrame({\"pred\": pred_fold[my_fold], \"obs\": y_fold[my_fold]}), f\"Observed vs. Predicted, Fold {my_fold+1}\")\n"
   ]
  },
  {
   "cell_type": "code",
   "execution_count": null,
   "metadata": {},
   "outputs": [],
   "source": [
    "from matplotlib import pyplot as plt\n",
    "\n",
    "plt.figure(figsize=(8,6))\n",
    "plt.plot(output[\"train_loss_fold\"][my_fold], color=\"teal\", label=\"training\")\n",
    "plt.plot(output[\"val_pooled_loss_fold\"][my_fold], color=\"orange\", label=\"validation (pooled)\")\n",
    "plt.plot(output[\"val_site_loss_fold\"][my_fold], color=\"purple\", label=\"validation (site mean)\")\n",
    "plt.title(f\"Loss Curves for Training and Validation Data, Fold {my_fold + 1}\")\n",
    "plt.xlabel(\"Epoch\")\n",
    "plt.ylabel(\"Loss\")\n",
    "\n",
    "plt.legend()\n",
    "plt.show()\n"
   ]
  },
  {
   "cell_type": "code",
   "execution_count": null,
   "metadata": {},
   "outputs": [],
   "source": [
    "plt.figure(figsize=(8,6))\n",
    "plt.plot(output[\"train_loss_fold\"][my_fold], color=\"teal\")\n",
    "plt.title(f\"R^2 by Epoch for Validation Data, Fold {my_fold + 1}\")\n",
    "plt.xlabel(\"Epoch\")\n",
    "plt.ylabel(\"Loss\")\n",
    "\n",
    "plt.show()"
   ]
  }
 ],
 "metadata": {
  "interpreter": {
   "hash": "31f2aee4e71d21fbe5cf8b01ff0e069b9275f58929596ceb00d14d90e3e16cd6"
  },
  "kernelspec": {
   "display_name": "Python 3.8.10 64-bit",
   "language": "python",
   "name": "python3"
  },
  "language_info": {
   "codemirror_mode": {
    "name": "ipython",
    "version": 3
   },
   "file_extension": ".py",
   "mimetype": "text/x-python",
   "name": "python",
   "nbconvert_exporter": "python",
   "pygments_lexer": "ipython3",
   "version": "3.8.10"
  },
  "orig_nbformat": 4
 },
 "nbformat": 4,
 "nbformat_minor": 2
}
