{
 "cells": [
  {
   "cell_type": "code",
   "execution_count": 11,
   "id": "fd967326",
   "metadata": {},
   "outputs": [
    {
     "name": "stdout",
     "output_type": "stream",
     "text": [
      "The autoreload extension is already loaded. To reload it, use:\n",
      "  %reload_ext autoreload\n"
     ]
    }
   ],
   "source": [
    "import sys\n",
    "sys.path.append('/content')\n",
    "from src.fluvius import USGS_Water_DB\n",
    "\n",
    "%load_ext autoreload\n",
    "%autoreload 2\n",
    "\n",
    "db = USGS_Water_DB()\n",
    "db.get_station_df()\n",
    "db.station_df"
   ]
  },
  {
   "cell_type": "code",
   "execution_count": 27,
   "id": "ae1733b0",
   "metadata": {},
   "outputs": [
    {
     "name": "stderr",
     "output_type": "stream",
     "text": [
      "[WDM] - ====== WebDriver manager ======\n",
      "[WDM] - Current google-chrome version is 90.0.4430\n",
      "[WDM] - Get LATEST driver version for 90.0.4430\n",
      "[WDM] - Driver [/root/.wdm/drivers/chromedriver/linux64/90.0.4430.24/chromedriver] found in cache\n"
     ]
    },
    {
     "name": "stdout",
     "output_type": "stream",
     "text": [
      "\n",
      "\n"
     ]
    }
   ],
   "source": []
  },
  {
   "cell_type": "code",
   "execution_count": 41,
   "id": "59bcd328",
   "metadata": {
    "scrolled": true
   },
   "outputs": [],
   "source": []
  },
  {
   "cell_type": "code",
   "execution_count": 42,
   "id": "e67ca934",
   "metadata": {},
   "outputs": [
    {
     "data": {
      "text/html": [
       "<div>\n",
       "<style scoped>\n",
       "    .dataframe tbody tr th:only-of-type {\n",
       "        vertical-align: middle;\n",
       "    }\n",
       "\n",
       "    .dataframe tbody tr th {\n",
       "        vertical-align: top;\n",
       "    }\n",
       "\n",
       "    .dataframe thead th {\n",
       "        text-align: right;\n",
       "    }\n",
       "</style>\n",
       "<table border=\"1\" class=\"dataframe\">\n",
       "  <thead>\n",
       "    <tr style=\"text-align: right;\">\n",
       "      <th></th>\n",
       "      <th>site_no</th>\n",
       "      <th>site_name</th>\n",
       "      <th>Latitude</th>\n",
       "      <th>Longitude</th>\n",
       "      <th>geometry</th>\n",
       "    </tr>\n",
       "  </thead>\n",
       "  <tbody>\n",
       "    <tr>\n",
       "      <th>0</th>\n",
       "      <td>01472157</td>\n",
       "      <td>French Creek near Phoenixville, PA</td>\n",
       "      <td>40.1515</td>\n",
       "      <td>-75.6013</td>\n",
       "      <td>POINT (-75.60130 40.15150)</td>\n",
       "    </tr>\n",
       "    <tr>\n",
       "      <th>1</th>\n",
       "      <td>01478245</td>\n",
       "      <td>White Clay Creek near Strickersville, PA</td>\n",
       "      <td>39.7475</td>\n",
       "      <td>-75.7708</td>\n",
       "      <td>POINT (-75.77080 39.74750)</td>\n",
       "    </tr>\n",
       "    <tr>\n",
       "      <th>2</th>\n",
       "      <td>01480617</td>\n",
       "      <td>West Branch Brandywine Creek at Modena, PA</td>\n",
       "      <td>39.9618</td>\n",
       "      <td>-75.8013</td>\n",
       "      <td>POINT (-75.80130 39.96180)</td>\n",
       "    </tr>\n",
       "    <tr>\n",
       "      <th>3</th>\n",
       "      <td>01480870</td>\n",
       "      <td>East Branch Brandywine Creek below Downingtown...</td>\n",
       "      <td>39.9687</td>\n",
       "      <td>-75.6733</td>\n",
       "      <td>POINT (-75.67330 39.96870)</td>\n",
       "    </tr>\n",
       "    <tr>\n",
       "      <th>4</th>\n",
       "      <td>01481000</td>\n",
       "      <td>Brandywine Creek at Chadds Ford, PA</td>\n",
       "      <td>39.8698</td>\n",
       "      <td>-75.5933</td>\n",
       "      <td>POINT (-75.59330 39.86980)</td>\n",
       "    </tr>\n",
       "    <tr>\n",
       "      <th>...</th>\n",
       "      <td>...</td>\n",
       "      <td>...</td>\n",
       "      <td>...</td>\n",
       "      <td>...</td>\n",
       "      <td>...</td>\n",
       "    </tr>\n",
       "    <tr>\n",
       "      <th>160</th>\n",
       "      <td>393806095273700</td>\n",
       "      <td>Atchison County Lake near Horton, KS</td>\n",
       "      <td>39.6350</td>\n",
       "      <td>-95.4603</td>\n",
       "      <td>POINT (-95.46030 39.63500)</td>\n",
       "    </tr>\n",
       "    <tr>\n",
       "      <th>161</th>\n",
       "      <td>393817095260100</td>\n",
       "      <td>Clear Creek at Decator Road near Horton, KS</td>\n",
       "      <td>39.6381</td>\n",
       "      <td>-95.4336</td>\n",
       "      <td>POINT (-95.43360 39.63810)</td>\n",
       "    </tr>\n",
       "    <tr>\n",
       "      <th>162</th>\n",
       "      <td>394126096073500</td>\n",
       "      <td>Black Vermillion River Tributary above Central...</td>\n",
       "      <td>39.6906</td>\n",
       "      <td>-96.1264</td>\n",
       "      <td>POINT (-96.12640 39.69060)</td>\n",
       "    </tr>\n",
       "    <tr>\n",
       "      <th>163</th>\n",
       "      <td>394146096085500</td>\n",
       "      <td>Centralia Lake near Centralia, KS</td>\n",
       "      <td>39.6961</td>\n",
       "      <td>-96.1486</td>\n",
       "      <td>POINT (-96.14860 39.69610)</td>\n",
       "    </tr>\n",
       "    <tr>\n",
       "      <th>164</th>\n",
       "      <td>394218096095000</td>\n",
       "      <td>Black Vermillion River Tributary below Central...</td>\n",
       "      <td>39.7050</td>\n",
       "      <td>-96.1639</td>\n",
       "      <td>POINT (-96.16390 39.70500)</td>\n",
       "    </tr>\n",
       "  </tbody>\n",
       "</table>\n",
       "<p>165 rows × 5 columns</p>\n",
       "</div>"
      ],
      "text/plain": [
       "             site_no                                          site_name  \\\n",
       "0           01472157                 French Creek near Phoenixville, PA   \n",
       "1           01478245           White Clay Creek near Strickersville, PA   \n",
       "2           01480617         West Branch Brandywine Creek at Modena, PA   \n",
       "3           01480870  East Branch Brandywine Creek below Downingtown...   \n",
       "4           01481000                Brandywine Creek at Chadds Ford, PA   \n",
       "..               ...                                                ...   \n",
       "160  393806095273700               Atchison County Lake near Horton, KS   \n",
       "161  393817095260100        Clear Creek at Decator Road near Horton, KS   \n",
       "162  394126096073500  Black Vermillion River Tributary above Central...   \n",
       "163  394146096085500                  Centralia Lake near Centralia, KS   \n",
       "164  394218096095000  Black Vermillion River Tributary below Central...   \n",
       "\n",
       "     Latitude  Longitude                    geometry  \n",
       "0     40.1515   -75.6013  POINT (-75.60130 40.15150)  \n",
       "1     39.7475   -75.7708  POINT (-75.77080 39.74750)  \n",
       "2     39.9618   -75.8013  POINT (-75.80130 39.96180)  \n",
       "3     39.9687   -75.6733  POINT (-75.67330 39.96870)  \n",
       "4     39.8698   -75.5933  POINT (-75.59330 39.86980)  \n",
       "..        ...        ...                         ...  \n",
       "160   39.6350   -95.4603  POINT (-95.46030 39.63500)  \n",
       "161   39.6381   -95.4336  POINT (-95.43360 39.63810)  \n",
       "162   39.6906   -96.1264  POINT (-96.12640 39.69060)  \n",
       "163   39.6961   -96.1486  POINT (-96.14860 39.69610)  \n",
       "164   39.7050   -96.1639  POINT (-96.16390 39.70500)  \n",
       "\n",
       "[165 rows x 5 columns]"
      ]
     },
     "execution_count": 42,
     "metadata": {},
     "output_type": "execute_result"
    }
   ],
   "source": []
  },
  {
   "cell_type": "code",
   "execution_count": null,
   "id": "fd7f70a2",
   "metadata": {},
   "outputs": [],
   "source": []
  }
 ],
 "metadata": {
  "kernelspec": {
   "display_name": "Python 3",
   "language": "python",
   "name": "python3"
  },
  "language_info": {
   "codemirror_mode": {
    "name": "ipython",
    "version": 3
   },
   "file_extension": ".py",
   "mimetype": "text/x-python",
   "name": "python",
   "nbconvert_exporter": "python",
   "pygments_lexer": "ipython3",
   "version": "3.8.5"
  }
 },
 "nbformat": 4,
 "nbformat_minor": 5
}
