{
 "cells": [
  {
   "cell_type": "markdown",
   "id": "d896e056",
   "metadata": {},
   "source": [
    "## Adding Tabular data to Azure Blob Storage and Accessing Sentinel-2 L2A data with the Planetary Computer STAC API"
   ]
  },
  {
   "cell_type": "markdown",
   "id": "5be45e8a",
   "metadata": {},
   "source": [
    "Demonstrate getting the proper credentials from the credential files given a gif? "
   ]
  },
  {
   "cell_type": "markdown",
   "id": "dae36fe0",
   "metadata": {},
   "source": [
    "Demonstrate uploading data to Azure Blob Storage via the portal GUI  "
   ]
  },
  {
   "cell_type": "markdown",
   "id": "d20742d3",
   "metadata": {},
   "source": [
    "Demonstrate reading in this data from this Jupyter Notebook using pandas"
   ]
  },
  {
   "cell_type": "markdown",
   "id": "6527eed4",
   "metadata": {},
   "source": [
    "Demonstrate visualizing the lat and lon, if available in the dataset"
   ]
  },
  {
   "cell_type": "markdown",
   "id": "814b718e",
   "metadata": {},
   "source": [
    "Demonstrate creating a buffer around the lat and lon in order to create a 'chip' area of interest 'AOI'"
   ]
  },
  {
   "cell_type": "markdown",
   "id": "d77b22db",
   "metadata": {},
   "source": [
    "Demonstrate creating a time buffer to create a time of interest 'TOI'"
   ]
  },
  {
   "cell_type": "markdown",
   "id": "48912105",
   "metadata": {},
   "source": [
    "Show how to format these AOI and TOI to something readable with PySTAC "
   ]
  },
  {
   "cell_type": "markdown",
   "id": "422664a7",
   "metadata": {},
   "source": [
    "Demonstrate saving tabular data using pandas API for connecting into Azure Blob Storage "
   ]
  },
  {
   "cell_type": "markdown",
   "id": "28acd5ae",
   "metadata": {},
   "source": [
    "Show how we use these two parameters to query the Sentinel-2 catalog "
   ]
  },
  {
   "cell_type": "markdown",
   "id": "8a617793",
   "metadata": {},
   "source": [
    "Explain the items returned by the STAC API and how to read meta data "
   ]
  },
  {
   "cell_type": "markdown",
   "id": "03f7a7b7",
   "metadata": {},
   "source": [
    "Explain how to filter by various metadata such as cloud cover "
   ]
  },
  {
   "cell_type": "markdown",
   "id": "d4da2710",
   "metadata": {},
   "source": [
    "Explain how to get assets matching the bands of interest "
   ]
  },
  {
   "cell_type": "markdown",
   "id": "e3f5bf50",
   "metadata": {},
   "source": [
    "Demonstrate how to get the open those hyperlinks with rasterio and then clip to the AOI  "
   ]
  },
  {
   "cell_type": "markdown",
   "id": "9c6ce8e1",
   "metadata": {},
   "source": [
    "Demonstrate saving this data into a folder in Azure Blob Storage using Azure Container Client as a geotiff"
   ]
  },
  {
   "cell_type": "code",
   "execution_count": 1,
   "id": "16bac88d",
   "metadata": {},
   "outputs": [],
   "source": [
    "#END"
   ]
  }
 ],
 "metadata": {
  "kernelspec": {
   "display_name": "Python 3 (ipykernel)",
   "language": "python",
   "name": "python3"
  },
  "language_info": {
   "codemirror_mode": {
    "name": "ipython",
    "version": 3
   },
   "file_extension": ".py",
   "mimetype": "text/x-python",
   "name": "python",
   "nbconvert_exporter": "python",
   "pygments_lexer": "ipython3",
   "version": "3.8.5"
  }
 },
 "nbformat": 4,
 "nbformat_minor": 5
}
