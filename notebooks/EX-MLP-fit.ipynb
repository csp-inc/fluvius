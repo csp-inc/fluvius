{
 "cells": [
  {
   "cell_type": "code",
   "execution_count": null,
   "source": [
    "import os, sys, pandas as pd\n",
    "import torch.nn as nn\n",
    "sys.path.append(\"/content\")\n",
    "from src.utils import fit_mlp, plot_obs_predict\n",
    "\n",
    "with open(\"/content/credentials\") as f:\n",
    "    env_vars = f.read().split(\"\\n\")\n",
    "\n",
    "for var in env_vars:\n",
    "    key, value = var.split(\" = \")\n",
    "    os.environ[key] = value\n",
    "\n",
    "storage_options = {\"account_name\":os.environ[\"ACCOUNT_NAME\"],\n",
    "                   \"account_key\":os.environ[\"BLOB_KEY\"]}\n"
   ],
   "outputs": [],
   "metadata": {}
  },
  {
   "cell_type": "code",
   "execution_count": null,
   "source": [
    "# Specify hyperparameters and fit model\n",
    "buffer_distance = 500\n",
    "day_tolerance = 8\n",
    "cloud_thr = 80\n",
    "min_water_pixels = 20\n",
    "features = [\n",
    "    \"Intercept\", \"sentinel-2-l2a_AOT\", \n",
    "    \"sentinel-2-l2a_B02\",\n",
    "    \"sentinel-2-l2a_B03\", \"sentinel-2-l2a_B04\", \"sentinel-2-l2a_B08\",\n",
    "    #\"sentinel-2-l2a_WVP\", \n",
    "    \"sentinel-2-l2a_B05\", \"sentinel-2-l2a_B06\",\n",
    "    \"sentinel-2-l2a_B07\", \"sentinel-2-l2a_B8A\", \n",
    "    \"is_brazil\", \"sine_julian\", \"sentinel-2-l2a_B11\",\n",
    "    \"mean_viewing_azimuth\", \"mean_viewing_zenith\",\n",
    "    \"mean_solar_azimuth\", \"mean_solar_zenith\"\n",
    "]\n",
    "epochs = 500\n",
    "batch_size = 64\n",
    "learning_rate = 0.01\n",
    "\n",
    "layer_out_neurons = [16, 32, 64, 16]\n",
    "n_layers = len(layer_out_neurons)\n",
    "\n",
    "model_out = fit_mlp(\n",
    "    features,\n",
    "    learning_rate,\n",
    "    batch_size,\n",
    "    epochs,\n",
    "    storage_options,\n",
    "    buffer_distance=buffer_distance,\n",
    "    day_tolerance=day_tolerance,\n",
    "    cloud_thr=cloud_thr,\n",
    "    mask_method=\"lulc\",\n",
    "    min_water_pixels=min_water_pixels,\n",
    "    n_layers=n_layers,\n",
    "    layer_out_neurons=layer_out_neurons\n",
    ")"
   ],
   "outputs": [],
   "metadata": {}
  },
  {
   "cell_type": "code",
   "execution_count": null,
   "source": [
    "# Plot observed vs predicted for Test data\n",
    "plot_obs_predict(\n",
    "    model_out[\"test_obs_predict\"],\n",
    "    title=\"Predicted vs. Observed for Withheld Test Data\",\n",
    "    savefig=False)"
   ],
   "outputs": [],
   "metadata": {}
  },
  {
   "cell_type": "code",
   "execution_count": null,
   "source": [
    "# Plot observed vs predicted for Train data\n",
    "plot_obs_predict(\n",
    "    model_out[\"train_obs_predict\"],\n",
    "    title=\"Predicted vs. Observed for Withheld Training Data\",\n",
    "    savefig=False)"
   ],
   "outputs": [],
   "metadata": {}
  },
  {
   "cell_type": "code",
   "execution_count": null,
   "source": [
    "# Plot observed vs predicted for ITV data\n",
    "plot_obs_predict(\n",
    "    model_out[\"itv_obs_predict\"],\n",
    "    title=\"Predicted vs. Observed for ITV Data\",\n",
    "    savefig=False)"
   ],
   "outputs": [],
   "metadata": {}
  },
  {
   "cell_type": "code",
   "execution_count": null,
   "source": [
    "print(model_out[\"train_R2\"])\n",
    "print(model_out[\"test_R2\"])\n",
    "print(model_out[\"itv_R2\"])"
   ],
   "outputs": [],
   "metadata": {}
  }
 ],
 "metadata": {
  "orig_nbformat": 4,
  "language_info": {
   "name": "python",
   "version": "3.8.5",
   "mimetype": "text/x-python",
   "codemirror_mode": {
    "name": "ipython",
    "version": 3
   },
   "pygments_lexer": "ipython3",
   "nbconvert_exporter": "python",
   "file_extension": ".py"
  },
  "kernelspec": {
   "name": "python3",
   "display_name": "Python 3.8.5 64-bit"
  },
  "interpreter": {
   "hash": "31f2aee4e71d21fbe5cf8b01ff0e069b9275f58929596ceb00d14d90e3e16cd6"
  }
 },
 "nbformat": 4,
 "nbformat_minor": 2
}