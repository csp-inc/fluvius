{
 "cells": [
  {
   "cell_type": "code",
   "execution_count": null,
   "metadata": {},
   "outputs": [],
   "source": [
    "import os, sys, pandas as pd, json, copy, numpy as np\n",
    "sys.path.append(\"/content\")\n",
    "from src.utils import plot_obs_predict\n",
    "from sklearn.metrics import r2_score\n",
    "os.chdir(\"/content\")\n",
    "with open(\"/content/credentials\") as f:\n",
    "    env_vars = f.read().split(\"\\n\")\n",
    "\n",
    "for var in env_vars:\n",
    "    key, value = var.split(\" = \")\n",
    "    os.environ[key] = value\n",
    "\n",
    "storage_options = {\"account_name\":os.environ[\"ACCOUNT_NAME\"],\n",
    "                   \"account_key\":os.environ[\"BLOB_KEY\"]}"
   ]
  },
  {
   "cell_type": "code",
   "execution_count": null,
   "metadata": {},
   "outputs": [],
   "source": [
    "results = pd.read_csv(\"output/mlp/grid_search_metadata_v3.csv\")\n",
    "no_azimuth = [\"mean_viewing_azimuth\" not in results[\"features\"][i] for i in range(0, (results.shape[0]))]\n",
    "results_sub = copy.copy(results.loc[no_azimuth, :])\n",
    "\n",
    "results_to_use = results_sub\n",
    "results_to_use[\"mean_mse\"] = (results_to_use[\"val_site_mse\"] + results_to_use[\"val_pooled_mse\"]) / 2\n",
    "\n",
    "with open(results_to_use.iloc[results_to_use[\"val_pooled_mse\"].argmin(), :][\"path\"], \"rb\") as f:\n",
    "    top_model = json.load(f)"
   ]
  },
  {
   "cell_type": "code",
   "execution_count": null,
   "metadata": {},
   "outputs": [],
   "source": [
    "part = \"train\"\n",
    "scale = \"native\"\n",
    "my_fold = 1\n",
    "\n",
    "from matplotlib import pyplot as plt\n",
    "\n",
    "if part == \"validation\":\n",
    "    pred_fold = top_model[\"y_pred_val_fold\"][0]\n",
    "    obs_fold = top_model[\"y_obs_val_fold\"][0]\n",
    "else:\n",
    "    pred_fold = top_model[\"y_pred_train_fold\"][0]\n",
    "    obs_fold = top_model[\"y_obs_train_fold\"][0]\n",
    "\n",
    "\n",
    "if scale == \"log\":\n",
    "    pred = pred_fold\n",
    "    obs = obs_fold\n",
    "    units = \"log(SSC)\"\n",
    "else:\n",
    "    pred = [np.exp(x) for x in pred_fold]\n",
    "    obs = [np.exp(x) for x in obs_fold]\n",
    "    units = \"SSC\"\n",
    "\n",
    "print(f\"R2: {r2_score(pred, obs)}\")\n",
    "obs_pred = pd.DataFrame({\"pred\": pred, \"obs\":obs})\n",
    "plot_obs_predict(obs_pred, f\"Observed vs. Predicted, Fold {my_fold+1}\", units)\n"
   ]
  },
  {
   "cell_type": "code",
   "execution_count": null,
   "metadata": {},
   "outputs": [],
   "source": []
  }
 ],
 "metadata": {
  "interpreter": {
   "hash": "31f2aee4e71d21fbe5cf8b01ff0e069b9275f58929596ceb00d14d90e3e16cd6"
  },
  "kernelspec": {
   "display_name": "Python 3.8.5 64-bit",
   "language": "python",
   "name": "python3"
  },
  "language_info": {
   "codemirror_mode": {
    "name": "ipython",
    "version": 3
   },
   "file_extension": ".py",
   "mimetype": "text/x-python",
   "name": "python",
   "nbconvert_exporter": "python",
   "pygments_lexer": "ipython3",
   "version": "3.8.5"
  },
  "orig_nbformat": 4
 },
 "nbformat": 4,
 "nbformat_minor": 2
}
