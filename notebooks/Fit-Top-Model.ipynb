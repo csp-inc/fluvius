{
 "cells": [
  {
   "cell_type": "code",
   "execution_count": 1,
   "metadata": {},
   "outputs": [],
   "source": [
    "import os, sys, pandas as pd, json, torch, torch.nn as nn, copy\n",
    "sys.path.append(\"/content\")\n",
    "from src.utils import plot_obs_predict, fit_mlp_full, fit_mlp_full_nolog\n",
    "os.chdir(\"/content\")\n",
    "with open(\"/content/credentials\") as f:\n",
    "    env_vars = f.read().split(\"\\n\")\n",
    "\n",
    "for var in env_vars:\n",
    "    key, value = var.split(\" = \")\n",
    "    os.environ[key] = value\n",
    "\n",
    "storage_options = {\"account_name\":os.environ[\"ACCOUNT_NAME\"],\n",
    "                   \"account_key\":os.environ[\"BLOB_KEY\"]}\n"
   ]
  },
  {
   "cell_type": "code",
   "execution_count": 3,
   "metadata": {},
   "outputs": [],
   "source": [
    "results = pd.read_csv(\"output/mlp/grid_search_metadata_v3.csv\")\n",
    "no_azimuth = [\"mean_viewing_azimuth\" not in results[\"features\"][i] for i in range(0, (results.shape[0]))]\n",
    "results_sub = copy.copy(results.loc[no_azimuth, :])\n",
    "\n",
    "results_to_use = results_sub\n",
    "results_to_use[\"mean_mse\"] = (results_to_use[\"val_site_mse\"] + results_to_use[\"val_pooled_mse\"]) / 2\n",
    "\n",
    "with open(results_to_use.iloc[results_to_use[\"mean_mse\"].argmin(), :][\"path\"], \"rb\") as f:\n",
    "    top_model = json.load(f)\n"
   ]
  },
  {
   "cell_type": "code",
   "execution_count": 4,
   "metadata": {},
   "outputs": [
    {
     "name": "stdout",
     "output_type": "stream",
     "text": [
      "0.0001\n",
      "[5, 3, 2]\n",
      "PReLU(num_parameters=1)\n",
      "0.001\n",
      "Epoch 15000/15000 | Train Loss: 0.35524\r"
     ]
    }
   ],
   "source": [
    "## Fit the full model based on top model above\n",
    "print(top_model[\"learning_rate\"])\n",
    "print(top_model[\"layer_out_neurons\"])\n",
    "print(top_model[\"activation\"])\n",
    "print(top_model[\"weight_decay\"])\n",
    "from torch import nn\n",
    "model_out = fit_mlp_full(\n",
    "    features=top_model[\"features\"],\n",
    "    learning_rate=top_model[\"learning_rate\"],\n",
    "    batch_size=top_model[\"batch_size\"],\n",
    "    epochs=15000,\n",
    "    storage_options=storage_options,\n",
    "    activation_function=eval(f'nn.{top_model[\"activation\"]}'),\n",
    "    day_tolerance=top_model[\"day_tolerance\"],\n",
    "    cloud_thr=top_model[\"cloud_thr\"],\n",
    "    mask_method1=\"lulc\",\n",
    "    mask_method2=\"mndwi\",\n",
    "    min_water_pixels=50,\n",
    "    layer_out_neurons=[4,2,2],\n",
    "    verbose=True,\n",
    "    model_out=\"mlp/top_model_final\",\n",
    "    weight_decay=top_model[\"weight_decay\"]\n",
    ")"
   ]
  },
  {
   "cell_type": "code",
   "execution_count": null,
   "metadata": {},
   "outputs": [],
   "source": [
    "model_out.keys()"
   ]
  },
  {
   "cell_type": "code",
   "execution_count": 5,
   "metadata": {},
   "outputs": [
    {
     "name": "stdout",
     "output_type": "stream",
     "text": [
      "R2 (log scc): 0.5888085782920821\n",
      "R2 (scc): 0.6228563075830071\n",
      "R2 (scc 0-100): 0.6427717095868583\n"
     ]
    },
    {
     "data": {
      "image/png": "[encoded data removed]",
      "text/plain": [
       "<Figure size 576x576 with 1 Axes>"
      ]
     },
     "metadata": {
      "needs_background": "light"
     },
     "output_type": "display_data"
    }
   ],
   "source": [
    "from sklearn.metrics import r2_score\n",
    "import numpy as np\n",
    "partition = \"test\"\n",
    "model_scale = \"log\"\n",
    "\n",
    "if partition == \"test\":\n",
    "    pred = pd.DataFrame(\n",
    "        {\n",
    "            \"obs\": model_out[\"y_obs_test\"],\n",
    "            \"pred\": model_out[\"y_pred_test\"],\n",
    "            \"sample_id\": model_out[\"y_test_sample_id\"]\n",
    "        }\n",
    "    )\n",
    "else:\n",
    "    pred = pd.DataFrame(\n",
    "        {\n",
    "            \"obs\": model_out[\"y_obs_train\"],\n",
    "            \"pred\": model_out[\"y_pred_train\"],\n",
    "            \"sample_id\": model_out[\"y_train_sample_id\"]\n",
    "        }\n",
    "    )\n",
    "    print(f'R2 train: {r2_score(model_out[\"y_pred_train\"], model_out[\"y_obs_train\"])}')\n",
    "\n",
    "pred_itv = pred.loc[[\"ITV\" in x for x in pred[\"sample_id\"]], :]\n",
    "pred_data = pred\n",
    "\n",
    "if model_scale == \"native\":\n",
    "    ssc_pred = [x * 100 for x in pred_data[\"pred\"]] #[(np.exp(x)) for x in pred_data[\"pred\"]]\n",
    "    ssc_obs = [x * 100 for x in pred_data[\"obs\"]]\n",
    "else: # [np.exp(x) for x in pred_data[\"obs\"]]\n",
    "    print(f'R2 (log scc): {r2_score(pred_data[\"pred\"], pred_data[\"obs\"])}')\n",
    "    ssc_pred = [np.exp(x) for x in pred_data[\"pred\"]]\n",
    "    ssc_obs = [np.exp(x) for x in pred_data[\"obs\"]]\n",
    "\n",
    "log_ssc_obs = pred_data[\"obs\"]\n",
    "\n",
    "print(f'R2 (scc): {r2_score(ssc_pred, ssc_obs)}')\n",
    "print(f'R2 (scc 0-100): {r2_score([ssc_pred[i] for i in range(0,len(ssc_obs)) if ssc_obs[i]<100], [x for x in ssc_obs if x<100])}')\n",
    "\n",
    "plot_obs_predict(pd.DataFrame({\"pred\": ssc_pred, \"obs\":  ssc_obs}), f\"Observed vs. Predicted, Test Partition\")\n",
    "#plot_obs_predict(pd.DataFrame({\"pred\": pred_data[\"pred\"], \"obs\":  pred_data[\"obs\"]}), f\"Observed vs. Predicted, Test Partition\")\n",
    "#plot_obs_predict(pd.DataFrame({\"pred\": model_out[\"y_pred_train\"], \"obs\": model_out[\"y_obs_train\"]}), f\"Observed vs. Predicted, Training Partition\")\n"
   ]
  },
  {
   "cell_type": "code",
   "execution_count": null,
   "metadata": {},
   "outputs": [],
   "source": [
    "import fsspec\n",
    "fs = fsspec.filesystem(\"az\", **storage_options)"
   ]
  },
  {
   "cell_type": "code",
   "execution_count": null,
   "metadata": {},
   "outputs": [],
   "source": [
    "fs.put_file(\"/content/output/mlp/top_model.pt\", \"model-output/mlp/top_model.pt\", overwrite=True)\n",
    "fs.put_file(\"/content/output/mlp/grid_search_metadata_v2.csv\", \"model-output/mlp/grid_search_metadata_v2.csv\", overwrite=True)\n",
    "fs.put_file(\"/content/output/mlp/top_model_metadata.pickle\", \"model-output/mlp/top_model_metadata.pickle\", overwrite=True)"
   ]
  },
  {
   "cell_type": "code",
   "execution_count": null,
   "metadata": {},
   "outputs": [],
   "source": [
    "paths_full = os.listdir(\"/content/output/mlp/500m_cloudthr80_lulcmndwi_masking_tmp_5fold\")\n",
    "paths = [os.path.basename(x) for x in paths_full]\n",
    "\n",
    "for path in paths:\n",
    "    fs.put_file(\n",
    "        f\"output/mlp/500m_cloudthr80_lulcmndwi_masking_tmp_5fold/{path}\",\n",
    "        f\"model-output/mlp/500m_cloudthr80_lulcmndwi_masking_tmp_5fold/{path}\"\n",
    "    )"
   ]
  },
  {
   "cell_type": "code",
   "execution_count": null,
   "metadata": {},
   "outputs": [],
   "source": [
    "from matplotlib import pyplot as plt\n",
    "\n",
    "lost_list = model_out[\"train_loss\"]\n",
    "\n",
    "plt.figure(figsize=(8,6))\n",
    "plt.plot(lost_list, color=\"teal\", label=\"training\")\n",
    "plt.title(f\"Loss by Epoch for Training Partition\")\n",
    "plt.xlabel(\"Epoch\")\n",
    "plt.ylabel(\"Loss\")\n",
    "plt.ylim((0, 3))\n",
    "plt.legend()\n",
    "plt.show()"
   ]
  },
  {
   "cell_type": "code",
   "execution_count": null,
   "metadata": {},
   "outputs": [],
   "source": [
    "from matplotlib import pyplot as plt\n",
    "\n",
    "plt.figure(figsize=(8,8))\n",
    "plt.plot(list(range(0,175)),list(range(0,175)), color=\"black\", label=\"One-to-one 1 line\")\n",
    "\n",
    "obs_pred = pd.DataFrame({\"pred\": [np.exp(x) for x in pred_data[\"pred\"]], \"obs\":  [np.exp(x) for x in pred_data[\"obs\"]]})\n",
    "plt.scatter(obs_pred.iloc[:,0], obs_pred.iloc[:,1])\n",
    "plt.xlabel(\"SSC (mg/L) Predicted\")\n",
    "plt.ylabel(\"SSC (mg/L) Observed\")\n",
    "plt.title(\"Observed vs. Predicted SSC for withheld ITV Test Sites\")\n",
    "plt.legend()"
   ]
  },
  {
   "cell_type": "code",
   "execution_count": null,
   "metadata": {},
   "outputs": [],
   "source": [
    "from src.utils import MultipleRegression\n",
    "model = MultipleRegression(len(model_out[\"features\"]), len(model_out[\"layer_out_neurons\"]), model_out[\"layer_out_neurons\"], activation_function=eval(f'nn.{model_out[\"activation\"]}'))\n",
    "\n",
    "with open(f\"output/mlp/top_model_tmp.pt\", \"rb\") as f:\n",
    "    model.load_state_dict(torch.load(f))"
   ]
  }
 ],
 "metadata": {
  "interpreter": {
   "hash": "31f2aee4e71d21fbe5cf8b01ff0e069b9275f58929596ceb00d14d90e3e16cd6"
  },
  "kernelspec": {
   "display_name": "Python 3.8.5 64-bit",
   "name": "python3"
  },
  "language_info": {
   "codemirror_mode": {
    "name": "ipython",
    "version": 3
   },
   "file_extension": ".py",
   "mimetype": "text/x-python",
   "name": "python",
   "nbconvert_exporter": "python",
   "pygments_lexer": "ipython3",
   "version": "3.8.5"
  },
  "orig_nbformat": 4
 },
 "nbformat": 4,
 "nbformat_minor": 2
}
