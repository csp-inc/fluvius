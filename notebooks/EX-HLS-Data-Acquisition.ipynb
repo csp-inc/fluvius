{
 "cells": [
  {
   "cell_type": "code",
   "execution_count": null,
   "source": [
    "import sys\n",
    "sys.path.append('/content')\n",
    "from src.fluvius import USGS_Water_DB, USGS_Station\n",
    "\n",
    "%load_ext autoreload\n",
    "%autoreload 2\n",
    "\n",
    "db = USGS_Water_DB()\n",
    "db.get_station_df()"
   ],
   "outputs": [],
   "metadata": {}
  },
  {
   "cell_type": "code",
   "execution_count": null,
   "source": [
    "import matplotlib.pyplot as plt"
   ],
   "outputs": [],
   "metadata": {}
  },
  {
   "cell_type": "code",
   "execution_count": null,
   "source": [
    "db.station_df"
   ],
   "outputs": [],
   "metadata": {}
  },
  {
   "cell_type": "code",
   "execution_count": null,
   "source": [
    "\n",
    "import requests\n",
    "import numpy as np\n",
    "import io\n",
    "import matplotlib.pyplot as plt\n",
    "import pandas as pd\n",
    "\n",
    "import rasterio\n",
    "from azure.storage.blob import ContainerClient\n",
    "\n",
    "container_name = 'hls'\n",
    "storage_account_name = 'hlssa'\n",
    "storage_account_url = 'https://' + storage_account_name + '.blob.core.windows.net/'\n",
    "hls_blob_root = storage_account_url + container_name\n",
    "\n",
    "# This file is provided by NASA; it indicates the lat/lon extents of each\n",
    "# hls tile.\n",
    "#\n",
    "# The file originally comes from:\n",
    "#\n",
    "# https://hls.gsfc.nasa.gov/wp-content/uploads/2016/10/S2_TilingSystem2-1.txt\n",
    "#\n",
    "# ...but as of 8/2019, there is a bug with the column names in the original file, so we\n",
    "# access a copy with corrected column names.\n",
    "hls_tile_extents_url = 'https://ai4edatasetspublicassets.blob.core.windows.net/assets/S2_TilingSystem2-1.txt'\n",
    "\n",
    "# Load this file into a table, where each row is:\n",
    "#\n",
    "# Tile ID, Xstart, Ystart, UZ, EPSG, MinLon, MaxLon, MinLon, MaxLon\n",
    "s = requests.get(hls_tile_extents_url).content\n",
    "hls_tile_extents = pd.read_csv(io.StringIO(s.decode('utf-8')),delimiter=r'\\s+')\n",
    "print('Read tile extents for {} tiles'.format(len(hls_tile_extents)))\n",
    "\n",
    "hls_container_client = ContainerClient(account_url=storage_account_url, \n",
    "                                         container_name=container_name,\n",
    "                                         credential=None)"
   ],
   "outputs": [],
   "metadata": {}
  },
  {
   "cell_type": "code",
   "execution_count": null,
   "source": [
    "\n",
    "def list_available_tiles(prefix):\n",
    "    \"\"\"\n",
    "    List all blobs in an Azure blob container matching a prefix.  \n",
    "    \n",
    "    We'll use this to query tiles by location and year.\n",
    "    \"\"\"\n",
    "    \n",
    "    files = []\n",
    "    generator = hls_container_client.list_blobs(name_starts_with=prefix)\n",
    "    for blob in generator:\n",
    "        files.append(blob.name)\n",
    "    return files\n",
    "\n",
    "    \n",
    "def lat_lon_to_hls_tile_id(lat,lon):\n",
    "    \"\"\"\n",
    "    Get the hls tile ID for a given lat/lon coordinate pair.\n",
    "    \"\"\"  \n",
    "    \n",
    "    found_matching_tile = False\n",
    "\n",
    "    for i_row,row in hls_tile_extents.iterrows():\n",
    "        found_matching_tile = lat >= row.MinLat and lat <= row.MaxLat \\\n",
    "        and lon >= row.MinLon and lon <= row.MaxLon\n",
    "        if found_matching_tile:\n",
    "            break\n",
    "    \n",
    "    if not found_matching_tile:\n",
    "        return None\n",
    "    else:\n",
    "        return row.TilID"
   ],
   "outputs": [],
   "metadata": {}
  },
  {
   "cell_type": "code",
   "execution_count": null,
   "source": [
    "station_i = 5 \n",
    "lat = db.station_df.iloc[station_i].Latitude\n",
    "lon = db.station_df.iloc[station_i].Longitude"
   ],
   "outputs": [],
   "metadata": {}
  },
  {
   "cell_type": "code",
   "execution_count": null,
   "source": [
    "\n",
    "# Near Bear Lake, UT\n",
    "#lat = 41.89655047211277; lon = -111.4132464403312 \n",
    "tile_id = lat_lon_to_hls_tile_id(lat,lon)\n",
    "print('Using Tile ID {}'.format(tile_id))\n",
    "\n",
    "year    = '2020'\n",
    "daynum  = '159'   # 1-indexed day-of-year\n",
    "product = 'S30'   # 'S30' for Sentinel, 'L30' for Landsat\n",
    "sband   = '_01'\n",
    "version = 'v1.4'  # Currently always v1.4\n",
    "\n",
    "blob_name = product + '/HLS.' + product + '.T' + tile_id + '.' + year + daynum + '.' + version \\\n",
    "    + sband + '.tif'\n",
    "sentinel_url = hls_blob_root + '/' + blob_name\n",
    "print('Constructed tile URL:\\n{}'.format(sentinel_url))"
   ],
   "outputs": [],
   "metadata": {}
  },
  {
   "cell_type": "code",
   "execution_count": null,
   "source": [
    "\n",
    "# Bands 2, 3, and 4 are B, G, and R in Sentinel-2 HLS images\n",
    "composite_bands = [4,3,2]\n",
    "\n",
    "urls = [sentinel_url.replace(sband,'_' + str(b).zfill(2)) for b in composite_bands]\n",
    "print('Rendering URLs:')\n",
    "for s in urls:\n",
    "    print(s)\n",
    "\n",
    "image_data = []\n",
    "\n",
    "composite_downsample_factor = 5\n",
    "composite_norm_value = 1500\n",
    "\n",
    "for fn in urls:\n",
    "    with rasterio.open(fn,'r') as raster:\n",
    "        h = int(raster.height/composite_downsample_factor)\n",
    "        w = int(raster.width/composite_downsample_factor)\n",
    "        band_array = raster.read(1, out_shape=(1, h, w))\n",
    "        raster.close()\n",
    "        band_array = band_array / composite_norm_value\n",
    "        image_data.append(band_array)\n",
    "\n",
    "rgb = np.dstack((image_data[0],image_data[1],image_data[2]))\n",
    "np.clip(rgb,0,1,rgb)\n",
    "\n",
    "dpi = 100; fig = plt.figure(frameon=False,figsize=(w/dpi,h/dpi),dpi=dpi)\n",
    "ax = plt.Axes(fig,[0., 0., 1., 1.]); ax.set_axis_off(); fig.add_axes(ax)\n",
    "plt.imshow(rgb);"
   ],
   "outputs": [],
   "metadata": {}
  },
  {
   "cell_type": "code",
   "execution_count": null,
   "source": [
    "image_data[0].shape"
   ],
   "outputs": [],
   "metadata": {}
  },
  {
   "cell_type": "code",
   "execution_count": null,
   "source": [
    "i_daynum = int(daynum)\n",
    "product = 'L30'\n",
    "\n",
    "# Try days sequentially until we find one where there's a Landsat image for this day\n",
    "while True:\n",
    "    \n",
    "    daynum = str(i_daynum).zfill(3)\n",
    "    prefix = product + '/HLS.' + product + '.T' + tile_id + '.' + year + daynum\n",
    "    print('Finding tiles with prefix {}'.format(prefix))\n",
    "    matches = list_available_tiles(prefix)\n",
    "    \n",
    "    if len(matches) == 0:\n",
    "        print('No matching tiles')\n",
    "        i_daynum += 1\n",
    "    else:\n",
    "        break\n",
    "\n",
    "blob_name = matches[0]\n",
    "landsat_url = hls_blob_root + '/' + blob_name\n",
    "print('Found {} matching tiles, e.g.:\\n{}'.format(len(matches),landsat_url))"
   ],
   "outputs": [],
   "metadata": {}
  },
  {
   "cell_type": "code",
   "execution_count": null,
   "source": [
    "urls = [landsat_url.replace(sband,'_' + str(b).zfill(2)) for b in composite_bands]\n",
    "print('Rendering URLs:')\n",
    "for s in urls:\n",
    "    print(s)\n",
    "\n",
    "image_data = []\n",
    "for fn in urls:\n",
    "    with rasterio.open(fn,'r') as raster:\n",
    "        h = int(raster.height/composite_downsample_factor)\n",
    "        w = int(raster.width/composite_downsample_factor)\n",
    "        band_array = raster.read(1, out_shape=(1, h, w))\n",
    "        raster.close()\n",
    "        band_array = band_array / composite_norm_value\n",
    "        image_data.append(band_array)\n",
    "\n",
    "rgb = np.dstack((image_data[0],image_data[1],image_data[2]))\n",
    "np.clip(rgb,0,1,rgb)\n",
    "\n",
    "dpi = 100; fig = plt.figure(frameon=False,figsize=(w/dpi,h/dpi),dpi=dpi)\n",
    "ax = plt.Axes(fig,[0., 0., 1., 1.]); ax.set_axis_off(); fig.add_axes(ax)\n",
    "plt.imshow(rgb);"
   ],
   "outputs": [],
   "metadata": {}
  }
 ],
 "metadata": {
  "kernelspec": {
   "display_name": "Python 3",
   "language": "python",
   "name": "python3"
  },
  "language_info": {
   "codemirror_mode": {
    "name": "ipython",
    "version": 3
   },
   "file_extension": ".py",
   "mimetype": "text/x-python",
   "name": "python",
   "nbconvert_exporter": "python",
   "pygments_lexer": "ipython3",
   "version": "3.8.5"
  }
 },
 "nbformat": 4,
 "nbformat_minor": 5
}